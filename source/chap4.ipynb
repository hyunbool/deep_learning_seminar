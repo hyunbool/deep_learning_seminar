{
 "cells": [
  {
   "cell_type": "code",
   "execution_count": 1,
   "metadata": {},
   "outputs": [
    {
     "data": {
      "text/plain": [
       "'\\n4장. word2vec 속도 개선\\n'"
      ]
     },
     "execution_count": 1,
     "metadata": {},
     "output_type": "execute_result"
    }
   ],
   "source": [
    "\"\"\"\n",
    "4장. word2vec 속도 개선\n",
    "\"\"\""
   ]
  },
  {
   "cell_type": "code",
   "execution_count": 3,
   "metadata": {},
   "outputs": [],
   "source": [
    "import sys\n",
    "sys.path.append('..')\n",
    "from common import config\n",
    "import numpy as np\n",
    "from negative_sampling_layer import UnigramSampler\n",
    "# GPU에서 실행하려면 아래 주석을 해제하세요(CuPy 필요).\n",
    "# ===============================================\n",
    "# config.GPU = True\n",
    "# ===============================================\n",
    "import pickle\n",
    "from common.trainer import Trainer\n",
    "from common.optimizer import Adam\n",
    "from cbow import CBOW\n",
    "from common.util import create_contexts_target, to_cpu, to_gpu\n",
    "import ptb\n",
    "from common.util import most_similar, analogy"
   ]
  },
  {
   "cell_type": "code",
   "execution_count": 2,
   "metadata": {},
   "outputs": [],
   "source": [
    "# 4.1.2 Embedding 계층 구현\n",
    "W = np.arange(21).reshape(7, 3)"
   ]
  },
  {
   "cell_type": "code",
   "execution_count": 3,
   "metadata": {},
   "outputs": [
    {
     "data": {
      "text/plain": [
       "array([[ 0,  1,  2],\n",
       "       [ 3,  4,  5],\n",
       "       [ 6,  7,  8],\n",
       "       [ 9, 10, 11],\n",
       "       [12, 13, 14],\n",
       "       [15, 16, 17],\n",
       "       [18, 19, 20]])"
      ]
     },
     "execution_count": 3,
     "metadata": {},
     "output_type": "execute_result"
    }
   ],
   "source": [
    "W"
   ]
  },
  {
   "cell_type": "code",
   "execution_count": 4,
   "metadata": {},
   "outputs": [
    {
     "data": {
      "text/plain": [
       "array([6, 7, 8])"
      ]
     },
     "execution_count": 4,
     "metadata": {},
     "output_type": "execute_result"
    }
   ],
   "source": [
    "W[2]"
   ]
  },
  {
   "cell_type": "code",
   "execution_count": 5,
   "metadata": {},
   "outputs": [
    {
     "data": {
      "text/plain": [
       "array([12, 13, 14])"
      ]
     },
     "execution_count": 5,
     "metadata": {},
     "output_type": "execute_result"
    }
   ],
   "source": [
    "W[4]"
   ]
  },
  {
   "cell_type": "code",
   "execution_count": 6,
   "metadata": {},
   "outputs": [
    {
     "data": {
      "text/plain": [
       "array([[ 3,  4,  5],\n",
       "       [ 0,  1,  2],\n",
       "       [ 9, 10, 11],\n",
       "       [ 0,  1,  2]])"
      ]
     },
     "execution_count": 6,
     "metadata": {},
     "output_type": "execute_result"
    }
   ],
   "source": [
    "idx = np.array([1, 0, 3, 0])\n",
    "W[idx]"
   ]
  },
  {
   "cell_type": "code",
   "execution_count": 12,
   "metadata": {},
   "outputs": [],
   "source": [
    "class Embedding:\n",
    "    def __init__(self, W):\n",
    "        self.params = [W]\n",
    "        self.grads = [np.zeros_like(W)]\n",
    "        self.idx = None\n",
    "        \n",
    "    def forward(self, idx):\n",
    "        W, = self.params\n",
    "        self.idx = idx\n",
    "        out = W[idx]\n",
    "        return out\n",
    "    \n",
    "    def backward(self, dout):\n",
    "        dW, = self.grads\n",
    "        dW[...] = 0\n",
    "        # dW[self.idx] = dout # 문제 발생\n",
    "        np.add.at(dW, self.idx, dout)\n",
    "        return None"
   ]
  },
  {
   "cell_type": "code",
   "execution_count": 13,
   "metadata": {},
   "outputs": [],
   "source": [
    "# 4.2.4 다중 분류에서 이진 분류로(EmbeddingDot)\n",
    "class EmbeddingDot:\n",
    "    def __init__(self, W):\n",
    "        self.embed = Embedding(W)\n",
    "        self.params = self.embed.params\n",
    "        self.grads = self.embed.grads\n",
    "        self.cache = None\n",
    "        \n",
    "    # hidden layer의 뉴런 h, 단어 id의 numpy 배열 idx\n",
    "    def forward(self, h, idx): \n",
    "        target_W = self.embed.forward(idx) # 단어 임베딩 계산 \n",
    "        out = np.sum(target_W * h, axis = 1) # 내적 계산\n",
    "        \n",
    "        self.cache = (h, target_W)\n",
    "        return out\n",
    "    \n",
    "    def backward(self, dout):\n",
    "        h, target_W = self.cache\n",
    "        dout = dout.reshape(dout.shape[0], 1)\n",
    "        \n",
    "        dtarget_W = dout * h\n",
    "        self.embed.backward(dtarget_W)\n",
    "        dh = dout * target_W\n",
    "        \n",
    "        return dh"
   ]
  },
  {
   "cell_type": "code",
   "execution_count": 18,
   "metadata": {},
   "outputs": [
    {
     "data": {
      "text/plain": [
       "6"
      ]
     },
     "execution_count": 18,
     "metadata": {},
     "output_type": "execute_result"
    }
   ],
   "source": [
    "# 4.2.6 네거티브 샘플링\n",
    "\n",
    "# 0~9까지 숫자 하나를 무작위로 샘플링\n",
    "np.random.choice(10)"
   ]
  },
  {
   "cell_type": "code",
   "execution_count": 19,
   "metadata": {},
   "outputs": [
    {
     "data": {
      "text/plain": [
       "2"
      ]
     },
     "execution_count": 19,
     "metadata": {},
     "output_type": "execute_result"
    }
   ],
   "source": [
    "np.random.choice(10)"
   ]
  },
  {
   "cell_type": "code",
   "execution_count": 20,
   "metadata": {},
   "outputs": [
    {
     "data": {
      "text/plain": [
       "'you'"
      ]
     },
     "execution_count": 20,
     "metadata": {},
     "output_type": "execute_result"
    }
   ],
   "source": [
    "# words에서 하나만 무작위로 샘플링\n",
    "words = ['you', 'say', 'goodbye', 'I', 'hello', '.']\n",
    "np.random.choice(words)"
   ]
  },
  {
   "cell_type": "code",
   "execution_count": 24,
   "metadata": {},
   "outputs": [
    {
     "data": {
      "text/plain": [
       "array(['hello', '.', '.', 'you', 'hello'], dtype='<U7')"
      ]
     },
     "execution_count": 24,
     "metadata": {},
     "output_type": "execute_result"
    }
   ],
   "source": [
    "# 5개만 무작위로 샘플링(중복 있음)\n",
    "np.random.choice(words, size=5)"
   ]
  },
  {
   "cell_type": "code",
   "execution_count": 25,
   "metadata": {},
   "outputs": [
    {
     "data": {
      "text/plain": [
       "array(['hello', '.', 'say', 'you', 'I'], dtype='<U7')"
      ]
     },
     "execution_count": 25,
     "metadata": {},
     "output_type": "execute_result"
    }
   ],
   "source": [
    "# 5개만 무작위로 샘플링(중복 없음)\n",
    "np.random.choice(words, size=5, replace=False)"
   ]
  },
  {
   "cell_type": "code",
   "execution_count": 28,
   "metadata": {},
   "outputs": [
    {
     "data": {
      "text/plain": [
       "'you'"
      ]
     },
     "execution_count": 28,
     "metadata": {},
     "output_type": "execute_result"
    }
   ],
   "source": [
    "# 확률분포에 따라 샘플링\n",
    "p = [0.5, 0.1, 0.05, 0.2, 0.05, 0.1]\n",
    "np.random.choice(words, p=p)"
   ]
  },
  {
   "cell_type": "code",
   "execution_count": 31,
   "metadata": {},
   "outputs": [
    {
     "name": "stdout",
     "output_type": "stream",
     "text": [
      "[0.64196878 0.33150408 0.02652714]\n"
     ]
    }
   ],
   "source": [
    "# 4.2.6 네거티브 샘플링의 샘플링 기법\n",
    "p = [0.7, 0.29, 0.01]\n",
    "new_p = np.power(p, 0.75) # 0.75 제곱\n",
    "new_p /= np.sum(new_p) # 0.75를 제곱한 확률분포의 총합\n",
    "print(new_p)"
   ]
  },
  {
   "cell_type": "code",
   "execution_count": 38,
   "metadata": {},
   "outputs": [
    {
     "name": "stdout",
     "output_type": "stream",
     "text": [
      "[[2 0]\n",
      " [1 0]\n",
      " [3 4]]\n"
     ]
    }
   ],
   "source": [
    "corpus = np.array([0, 1, 2, 3, 4, 1, 2, 3])\n",
    "power = 0.75\n",
    "sample_size = 2\n",
    "\n",
    "sampler = UnigramSampler(corpus, power, sample_size)\n",
    "target = np.array([1, 3, 0]) # target으로 지정한 단어는 positive, 그 외의 단어는 negative로 샘플링\n",
    "negative_sample = sampler.get_negative_sample(target)\n",
    "print(negative_sample)"
   ]
  },
  {
   "cell_type": "code",
   "execution_count": 2,
   "metadata": {},
   "outputs": [
    {
     "name": "stdout",
     "output_type": "stream",
     "text": [
      "| 에폭 1 |  반복 1 / 9295 | 시간 0[s] | 손실 4.16\n",
      "| 에폭 1 |  반복 21 / 9295 | 시간 1[s] | 손실 4.16\n",
      "| 에폭 1 |  반복 41 / 9295 | 시간 1[s] | 손실 4.15\n",
      "| 에폭 1 |  반복 61 / 9295 | 시간 2[s] | 손실 4.12\n",
      "| 에폭 1 |  반복 81 / 9295 | 시간 3[s] | 손실 4.05\n",
      "| 에폭 1 |  반복 101 / 9295 | 시간 4[s] | 손실 3.92\n",
      "| 에폭 1 |  반복 121 / 9295 | 시간 5[s] | 손실 3.78\n",
      "| 에폭 1 |  반복 141 / 9295 | 시간 6[s] | 손실 3.62\n",
      "| 에폭 1 |  반복 161 / 9295 | 시간 7[s] | 손실 3.49\n",
      "| 에폭 1 |  반복 181 / 9295 | 시간 8[s] | 손실 3.35\n",
      "| 에폭 1 |  반복 201 / 9295 | 시간 9[s] | 손실 3.25\n",
      "| 에폭 1 |  반복 221 / 9295 | 시간 10[s] | 손실 3.16\n",
      "| 에폭 1 |  반복 241 / 9295 | 시간 11[s] | 손실 3.09\n",
      "| 에폭 1 |  반복 261 / 9295 | 시간 11[s] | 손실 3.02\n",
      "| 에폭 1 |  반복 281 / 9295 | 시간 12[s] | 손실 2.98\n",
      "| 에폭 1 |  반복 301 / 9295 | 시간 13[s] | 손실 2.93\n",
      "| 에폭 1 |  반복 321 / 9295 | 시간 14[s] | 손실 2.84\n",
      "| 에폭 1 |  반복 341 / 9295 | 시간 15[s] | 손실 2.83\n",
      "| 에폭 1 |  반복 361 / 9295 | 시간 16[s] | 손실 2.82\n",
      "| 에폭 1 |  반복 381 / 9295 | 시간 17[s] | 손실 2.78\n",
      "| 에폭 1 |  반복 401 / 9295 | 시간 18[s] | 손실 2.77\n",
      "| 에폭 1 |  반복 421 / 9295 | 시간 19[s] | 손실 2.73\n",
      "| 에폭 1 |  반복 441 / 9295 | 시간 20[s] | 손실 2.71\n",
      "| 에폭 1 |  반복 461 / 9295 | 시간 21[s] | 손실 2.73\n",
      "| 에폭 1 |  반복 481 / 9295 | 시간 21[s] | 손실 2.68\n",
      "| 에폭 1 |  반복 501 / 9295 | 시간 22[s] | 손실 2.70\n",
      "| 에폭 1 |  반복 521 / 9295 | 시간 23[s] | 손실 2.65\n",
      "| 에폭 1 |  반복 541 / 9295 | 시간 24[s] | 손실 2.65\n",
      "| 에폭 1 |  반복 561 / 9295 | 시간 25[s] | 손실 2.65\n",
      "| 에폭 1 |  반복 581 / 9295 | 시간 26[s] | 손실 2.64\n",
      "| 에폭 1 |  반복 601 / 9295 | 시간 27[s] | 손실 2.64\n",
      "| 에폭 1 |  반복 621 / 9295 | 시간 28[s] | 손실 2.64\n",
      "| 에폭 1 |  반복 641 / 9295 | 시간 30[s] | 손실 2.61\n",
      "| 에폭 1 |  반복 661 / 9295 | 시간 31[s] | 손실 2.64\n",
      "| 에폭 1 |  반복 681 / 9295 | 시간 32[s] | 손실 2.61\n",
      "| 에폭 1 |  반복 701 / 9295 | 시간 34[s] | 손실 2.64\n",
      "| 에폭 1 |  반복 721 / 9295 | 시간 35[s] | 손실 2.62\n",
      "| 에폭 1 |  반복 741 / 9295 | 시간 36[s] | 손실 2.61\n",
      "| 에폭 1 |  반복 761 / 9295 | 시간 37[s] | 손실 2.61\n",
      "| 에폭 1 |  반복 781 / 9295 | 시간 38[s] | 손실 2.61\n",
      "| 에폭 1 |  반복 801 / 9295 | 시간 38[s] | 손실 2.59\n",
      "| 에폭 1 |  반복 821 / 9295 | 시간 39[s] | 손실 2.61\n",
      "| 에폭 1 |  반복 841 / 9295 | 시간 40[s] | 손실 2.57\n",
      "| 에폭 1 |  반복 861 / 9295 | 시간 41[s] | 손실 2.59\n",
      "| 에폭 1 |  반복 881 / 9295 | 시간 42[s] | 손실 2.58\n",
      "| 에폭 1 |  반복 901 / 9295 | 시간 43[s] | 손실 2.55\n",
      "| 에폭 1 |  반복 921 / 9295 | 시간 44[s] | 손실 2.55\n",
      "| 에폭 1 |  반복 941 / 9295 | 시간 45[s] | 손실 2.58\n",
      "| 에폭 1 |  반복 961 / 9295 | 시간 46[s] | 손실 2.57\n",
      "| 에폭 1 |  반복 981 / 9295 | 시간 47[s] | 손실 2.56\n",
      "| 에폭 1 |  반복 1001 / 9295 | 시간 49[s] | 손실 2.55\n",
      "| 에폭 1 |  반복 1021 / 9295 | 시간 50[s] | 손실 2.54\n",
      "| 에폭 1 |  반복 1041 / 9295 | 시간 51[s] | 손실 2.53\n",
      "| 에폭 1 |  반복 1061 / 9295 | 시간 52[s] | 손실 2.56\n",
      "| 에폭 1 |  반복 1081 / 9295 | 시간 53[s] | 손실 2.53\n",
      "| 에폭 1 |  반복 1101 / 9295 | 시간 54[s] | 손실 2.52\n",
      "| 에폭 1 |  반복 1121 / 9295 | 시간 55[s] | 손실 2.56\n",
      "| 에폭 1 |  반복 1141 / 9295 | 시간 56[s] | 손실 2.56\n",
      "| 에폭 1 |  반복 1161 / 9295 | 시간 58[s] | 손실 2.53\n",
      "| 에폭 1 |  반복 1181 / 9295 | 시간 59[s] | 손실 2.54\n",
      "| 에폭 1 |  반복 1201 / 9295 | 시간 60[s] | 손실 2.57\n",
      "| 에폭 1 |  반복 1221 / 9295 | 시간 61[s] | 손실 2.56\n",
      "| 에폭 1 |  반복 1241 / 9295 | 시간 62[s] | 손실 2.51\n",
      "| 에폭 1 |  반복 1261 / 9295 | 시간 63[s] | 손실 2.54\n",
      "| 에폭 1 |  반복 1281 / 9295 | 시간 64[s] | 손실 2.56\n",
      "| 에폭 1 |  반복 1301 / 9295 | 시간 65[s] | 손실 2.52\n",
      "| 에폭 1 |  반복 1321 / 9295 | 시간 66[s] | 손실 2.54\n",
      "| 에폭 1 |  반복 1341 / 9295 | 시간 67[s] | 손실 2.51\n",
      "| 에폭 1 |  반복 1361 / 9295 | 시간 68[s] | 손실 2.52\n",
      "| 에폭 1 |  반복 1381 / 9295 | 시간 69[s] | 손실 2.53\n",
      "| 에폭 1 |  반복 1401 / 9295 | 시간 70[s] | 손실 2.54\n",
      "| 에폭 1 |  반복 1421 / 9295 | 시간 71[s] | 손실 2.49\n",
      "| 에폭 1 |  반복 1441 / 9295 | 시간 72[s] | 손실 2.54\n",
      "| 에폭 1 |  반복 1461 / 9295 | 시간 73[s] | 손실 2.54\n",
      "| 에폭 1 |  반복 1481 / 9295 | 시간 74[s] | 손실 2.47\n",
      "| 에폭 1 |  반복 1501 / 9295 | 시간 75[s] | 손실 2.51\n",
      "| 에폭 1 |  반복 1521 / 9295 | 시간 76[s] | 손실 2.52\n",
      "| 에폭 1 |  반복 1541 / 9295 | 시간 77[s] | 손실 2.47\n",
      "| 에폭 1 |  반복 1561 / 9295 | 시간 77[s] | 손실 2.53\n",
      "| 에폭 1 |  반복 1581 / 9295 | 시간 78[s] | 손실 2.49\n",
      "| 에폭 1 |  반복 1601 / 9295 | 시간 79[s] | 손실 2.51\n",
      "| 에폭 1 |  반복 1621 / 9295 | 시간 80[s] | 손실 2.49\n",
      "| 에폭 1 |  반복 1641 / 9295 | 시간 81[s] | 손실 2.50\n",
      "| 에폭 1 |  반복 1661 / 9295 | 시간 82[s] | 손실 2.49\n",
      "| 에폭 1 |  반복 1681 / 9295 | 시간 83[s] | 손실 2.51\n",
      "| 에폭 1 |  반복 1701 / 9295 | 시간 84[s] | 손실 2.51\n",
      "| 에폭 1 |  반복 1721 / 9295 | 시간 85[s] | 손실 2.48\n",
      "| 에폭 1 |  반복 1741 / 9295 | 시간 86[s] | 손실 2.51\n",
      "| 에폭 1 |  반복 1761 / 9295 | 시간 87[s] | 손실 2.51\n",
      "| 에폭 1 |  반복 1781 / 9295 | 시간 87[s] | 손실 2.50\n",
      "| 에폭 1 |  반복 1801 / 9295 | 시간 88[s] | 손실 2.50\n",
      "| 에폭 1 |  반복 1821 / 9295 | 시간 89[s] | 손실 2.55\n",
      "| 에폭 1 |  반복 1841 / 9295 | 시간 90[s] | 손실 2.51\n",
      "| 에폭 1 |  반복 1861 / 9295 | 시간 91[s] | 손실 2.47\n",
      "| 에폭 1 |  반복 1881 / 9295 | 시간 92[s] | 손실 2.47\n",
      "| 에폭 1 |  반복 1901 / 9295 | 시간 93[s] | 손실 2.48\n",
      "| 에폭 1 |  반복 1921 / 9295 | 시간 94[s] | 손실 2.52\n",
      "| 에폭 1 |  반복 1941 / 9295 | 시간 95[s] | 손실 2.50\n",
      "| 에폭 1 |  반복 1961 / 9295 | 시간 96[s] | 손실 2.48\n",
      "| 에폭 1 |  반복 1981 / 9295 | 시간 97[s] | 손실 2.49\n",
      "| 에폭 1 |  반복 2001 / 9295 | 시간 97[s] | 손실 2.51\n",
      "| 에폭 1 |  반복 2021 / 9295 | 시간 98[s] | 손실 2.49\n",
      "| 에폭 1 |  반복 2041 / 9295 | 시간 99[s] | 손실 2.45\n",
      "| 에폭 1 |  반복 2061 / 9295 | 시간 100[s] | 손실 2.51\n",
      "| 에폭 1 |  반복 2081 / 9295 | 시간 101[s] | 손실 2.48\n",
      "| 에폭 1 |  반복 2101 / 9295 | 시간 102[s] | 손실 2.48\n",
      "| 에폭 1 |  반복 2121 / 9295 | 시간 103[s] | 손실 2.48\n",
      "| 에폭 1 |  반복 2141 / 9295 | 시간 104[s] | 손실 2.51\n",
      "| 에폭 1 |  반복 2161 / 9295 | 시간 105[s] | 손실 2.50\n",
      "| 에폭 1 |  반복 2181 / 9295 | 시간 106[s] | 손실 2.45\n",
      "| 에폭 1 |  반복 2201 / 9295 | 시간 107[s] | 손실 2.48\n",
      "| 에폭 1 |  반복 2221 / 9295 | 시간 108[s] | 손실 2.52\n",
      "| 에폭 1 |  반복 2241 / 9295 | 시간 109[s] | 손실 2.47\n",
      "| 에폭 1 |  반복 2261 / 9295 | 시간 110[s] | 손실 2.47\n",
      "| 에폭 1 |  반복 2281 / 9295 | 시간 111[s] | 손실 2.47\n",
      "| 에폭 1 |  반복 2301 / 9295 | 시간 112[s] | 손실 2.45\n",
      "| 에폭 1 |  반복 2321 / 9295 | 시간 113[s] | 손실 2.47\n",
      "| 에폭 1 |  반복 2341 / 9295 | 시간 114[s] | 손실 2.47\n",
      "| 에폭 1 |  반복 2361 / 9295 | 시간 114[s] | 손실 2.49\n",
      "| 에폭 1 |  반복 2381 / 9295 | 시간 115[s] | 손실 2.48\n",
      "| 에폭 1 |  반복 2401 / 9295 | 시간 116[s] | 손실 2.48\n",
      "| 에폭 1 |  반복 2421 / 9295 | 시간 117[s] | 손실 2.48\n",
      "| 에폭 1 |  반복 2441 / 9295 | 시간 118[s] | 손실 2.49\n",
      "| 에폭 1 |  반복 2461 / 9295 | 시간 119[s] | 손실 2.48\n",
      "| 에폭 1 |  반복 2481 / 9295 | 시간 120[s] | 손실 2.47\n",
      "| 에폭 1 |  반복 2501 / 9295 | 시간 121[s] | 손실 2.50\n",
      "| 에폭 1 |  반복 2521 / 9295 | 시간 122[s] | 손실 2.46\n",
      "| 에폭 1 |  반복 2541 / 9295 | 시간 123[s] | 손실 2.45\n",
      "| 에폭 1 |  반복 2561 / 9295 | 시간 124[s] | 손실 2.47\n",
      "| 에폭 1 |  반복 2581 / 9295 | 시간 125[s] | 손실 2.46\n",
      "| 에폭 1 |  반복 2601 / 9295 | 시간 126[s] | 손실 2.48\n",
      "| 에폭 1 |  반복 2621 / 9295 | 시간 126[s] | 손실 2.46\n",
      "| 에폭 1 |  반복 2641 / 9295 | 시간 127[s] | 손실 2.47\n",
      "| 에폭 1 |  반복 2661 / 9295 | 시간 128[s] | 손실 2.50\n",
      "| 에폭 1 |  반복 2681 / 9295 | 시간 129[s] | 손실 2.47\n",
      "| 에폭 1 |  반복 2701 / 9295 | 시간 130[s] | 손실 2.46\n",
      "| 에폭 1 |  반복 2721 / 9295 | 시간 131[s] | 손실 2.48\n",
      "| 에폭 1 |  반복 2741 / 9295 | 시간 132[s] | 손실 2.47\n",
      "| 에폭 1 |  반복 2761 / 9295 | 시간 133[s] | 손실 2.45\n",
      "| 에폭 1 |  반복 2781 / 9295 | 시간 134[s] | 손실 2.45\n",
      "| 에폭 1 |  반복 2801 / 9295 | 시간 135[s] | 손실 2.47\n",
      "| 에폭 1 |  반복 2821 / 9295 | 시간 136[s] | 손실 2.47\n",
      "| 에폭 1 |  반복 2841 / 9295 | 시간 136[s] | 손실 2.44\n",
      "| 에폭 1 |  반복 2861 / 9295 | 시간 137[s] | 손실 2.46\n",
      "| 에폭 1 |  반복 2881 / 9295 | 시간 138[s] | 손실 2.45\n",
      "| 에폭 1 |  반복 2901 / 9295 | 시간 139[s] | 손실 2.45\n",
      "| 에폭 1 |  반복 2921 / 9295 | 시간 140[s] | 손실 2.43\n",
      "| 에폭 1 |  반복 2941 / 9295 | 시간 141[s] | 손실 2.44\n",
      "| 에폭 1 |  반복 2961 / 9295 | 시간 142[s] | 손실 2.43\n",
      "| 에폭 1 |  반복 2981 / 9295 | 시간 143[s] | 손실 2.45\n",
      "| 에폭 1 |  반복 3001 / 9295 | 시간 144[s] | 손실 2.43\n",
      "| 에폭 1 |  반복 3021 / 9295 | 시간 145[s] | 손실 2.45\n",
      "| 에폭 1 |  반복 3041 / 9295 | 시간 145[s] | 손실 2.45\n",
      "| 에폭 1 |  반복 3061 / 9295 | 시간 146[s] | 손실 2.44\n",
      "| 에폭 1 |  반복 3081 / 9295 | 시간 147[s] | 손실 2.42\n",
      "| 에폭 1 |  반복 3101 / 9295 | 시간 148[s] | 손실 2.43\n",
      "| 에폭 1 |  반복 3121 / 9295 | 시간 149[s] | 손실 2.47\n",
      "| 에폭 1 |  반복 3141 / 9295 | 시간 150[s] | 손실 2.44\n",
      "| 에폭 1 |  반복 3161 / 9295 | 시간 151[s] | 손실 2.45\n",
      "| 에폭 1 |  반복 3181 / 9295 | 시간 152[s] | 손실 2.42\n",
      "| 에폭 1 |  반복 3201 / 9295 | 시간 153[s] | 손실 2.45\n",
      "| 에폭 1 |  반복 3221 / 9295 | 시간 154[s] | 손실 2.44\n",
      "| 에폭 1 |  반복 3241 / 9295 | 시간 154[s] | 손실 2.44\n",
      "| 에폭 1 |  반복 3261 / 9295 | 시간 155[s] | 손실 2.44\n",
      "| 에폭 1 |  반복 3281 / 9295 | 시간 156[s] | 손실 2.45\n",
      "| 에폭 1 |  반복 3301 / 9295 | 시간 157[s] | 손실 2.41\n",
      "| 에폭 1 |  반복 3321 / 9295 | 시간 158[s] | 손실 2.43\n",
      "| 에폭 1 |  반복 3341 / 9295 | 시간 159[s] | 손실 2.45\n",
      "| 에폭 1 |  반복 3361 / 9295 | 시간 160[s] | 손실 2.48\n",
      "| 에폭 1 |  반복 3381 / 9295 | 시간 161[s] | 손실 2.43\n",
      "| 에폭 1 |  반복 3401 / 9295 | 시간 162[s] | 손실 2.47\n",
      "| 에폭 1 |  반복 3421 / 9295 | 시간 163[s] | 손실 2.41\n",
      "| 에폭 1 |  반복 3441 / 9295 | 시간 164[s] | 손실 2.42\n",
      "| 에폭 1 |  반복 3461 / 9295 | 시간 164[s] | 손실 2.41\n",
      "| 에폭 1 |  반복 3481 / 9295 | 시간 165[s] | 손실 2.43\n",
      "| 에폭 1 |  반복 3501 / 9295 | 시간 166[s] | 손실 2.39\n",
      "| 에폭 1 |  반복 3521 / 9295 | 시간 167[s] | 손실 2.43\n",
      "| 에폭 1 |  반복 3541 / 9295 | 시간 168[s] | 손실 2.43\n"
     ]
    },
    {
     "name": "stdout",
     "output_type": "stream",
     "text": [
      "| 에폭 1 |  반복 3561 / 9295 | 시간 169[s] | 손실 2.43\n",
      "| 에폭 1 |  반복 3581 / 9295 | 시간 170[s] | 손실 2.43\n",
      "| 에폭 1 |  반복 3601 / 9295 | 시간 171[s] | 손실 2.40\n",
      "| 에폭 1 |  반복 3621 / 9295 | 시간 172[s] | 손실 2.41\n",
      "| 에폭 1 |  반복 3641 / 9295 | 시간 172[s] | 손실 2.41\n",
      "| 에폭 1 |  반복 3661 / 9295 | 시간 173[s] | 손실 2.42\n",
      "| 에폭 1 |  반복 3681 / 9295 | 시간 174[s] | 손실 2.43\n",
      "| 에폭 1 |  반복 3701 / 9295 | 시간 175[s] | 손실 2.40\n",
      "| 에폭 1 |  반복 3721 / 9295 | 시간 176[s] | 손실 2.42\n",
      "| 에폭 1 |  반복 3741 / 9295 | 시간 177[s] | 손실 2.42\n",
      "| 에폭 1 |  반복 3761 / 9295 | 시간 178[s] | 손실 2.40\n",
      "| 에폭 1 |  반복 3781 / 9295 | 시간 179[s] | 손실 2.41\n",
      "| 에폭 1 |  반복 3801 / 9295 | 시간 179[s] | 손실 2.40\n",
      "| 에폭 1 |  반복 3821 / 9295 | 시간 180[s] | 손실 2.43\n",
      "| 에폭 1 |  반복 3841 / 9295 | 시간 181[s] | 손실 2.41\n",
      "| 에폭 1 |  반복 3861 / 9295 | 시간 182[s] | 손실 2.40\n",
      "| 에폭 1 |  반복 3881 / 9295 | 시간 183[s] | 손실 2.37\n",
      "| 에폭 1 |  반복 3901 / 9295 | 시간 184[s] | 손실 2.43\n",
      "| 에폭 1 |  반복 3921 / 9295 | 시간 185[s] | 손실 2.42\n",
      "| 에폭 1 |  반복 3941 / 9295 | 시간 185[s] | 손실 2.40\n",
      "| 에폭 1 |  반복 3961 / 9295 | 시간 186[s] | 손실 2.36\n",
      "| 에폭 1 |  반복 3981 / 9295 | 시간 187[s] | 손실 2.38\n",
      "| 에폭 1 |  반복 4001 / 9295 | 시간 188[s] | 손실 2.41\n",
      "| 에폭 1 |  반복 4021 / 9295 | 시간 189[s] | 손실 2.38\n",
      "| 에폭 1 |  반복 4041 / 9295 | 시간 190[s] | 손실 2.41\n",
      "| 에폭 1 |  반복 4061 / 9295 | 시간 191[s] | 손실 2.43\n",
      "| 에폭 1 |  반복 4081 / 9295 | 시간 192[s] | 손실 2.37\n",
      "| 에폭 1 |  반복 4101 / 9295 | 시간 192[s] | 손실 2.39\n",
      "| 에폭 1 |  반복 4121 / 9295 | 시간 193[s] | 손실 2.37\n",
      "| 에폭 1 |  반복 4141 / 9295 | 시간 194[s] | 손실 2.38\n",
      "| 에폭 1 |  반복 4161 / 9295 | 시간 195[s] | 손실 2.42\n",
      "| 에폭 1 |  반복 4181 / 9295 | 시간 196[s] | 손실 2.41\n",
      "| 에폭 1 |  반복 4201 / 9295 | 시간 197[s] | 손실 2.36\n",
      "| 에폭 1 |  반복 4221 / 9295 | 시간 198[s] | 손실 2.38\n",
      "| 에폭 1 |  반복 4241 / 9295 | 시간 198[s] | 손실 2.40\n",
      "| 에폭 1 |  반복 4261 / 9295 | 시간 199[s] | 손실 2.42\n",
      "| 에폭 1 |  반복 4281 / 9295 | 시간 200[s] | 손실 2.41\n",
      "| 에폭 1 |  반복 4301 / 9295 | 시간 201[s] | 손실 2.39\n",
      "| 에폭 1 |  반복 4321 / 9295 | 시간 202[s] | 손실 2.38\n",
      "| 에폭 1 |  반복 4341 / 9295 | 시간 203[s] | 손실 2.39\n",
      "| 에폭 1 |  반복 4361 / 9295 | 시간 204[s] | 손실 2.37\n",
      "| 에폭 1 |  반복 4381 / 9295 | 시간 204[s] | 손실 2.39\n",
      "| 에폭 1 |  반복 4401 / 9295 | 시간 205[s] | 손실 2.37\n",
      "| 에폭 1 |  반복 4421 / 9295 | 시간 206[s] | 손실 2.38\n",
      "| 에폭 1 |  반복 4441 / 9295 | 시간 207[s] | 손실 2.40\n",
      "| 에폭 1 |  반복 4461 / 9295 | 시간 208[s] | 손실 2.34\n",
      "| 에폭 1 |  반복 4481 / 9295 | 시간 209[s] | 손실 2.40\n",
      "| 에폭 1 |  반복 4501 / 9295 | 시간 210[s] | 손실 2.35\n",
      "| 에폭 1 |  반복 4521 / 9295 | 시간 211[s] | 손실 2.36\n",
      "| 에폭 1 |  반복 4541 / 9295 | 시간 212[s] | 손실 2.39\n",
      "| 에폭 1 |  반복 4561 / 9295 | 시간 213[s] | 손실 2.33\n",
      "| 에폭 1 |  반복 4581 / 9295 | 시간 213[s] | 손실 2.39\n"
     ]
    },
    {
     "ename": "KeyboardInterrupt",
     "evalue": "",
     "output_type": "error",
     "traceback": [
      "\u001b[0;31m---------------------------------------------------------------------------\u001b[0m",
      "\u001b[0;31mKeyboardInterrupt\u001b[0m                         Traceback (most recent call last)",
      "\u001b[0;32m<ipython-input-2-7970ff20a6b0>\u001b[0m in \u001b[0;36m<module>\u001b[0;34m\u001b[0m\n\u001b[1;32m     19\u001b[0m \u001b[0;34m\u001b[0m\u001b[0m\n\u001b[1;32m     20\u001b[0m \u001b[0;31m# 학습 시작\u001b[0m\u001b[0;34m\u001b[0m\u001b[0;34m\u001b[0m\u001b[0;34m\u001b[0m\u001b[0m\n\u001b[0;32m---> 21\u001b[0;31m \u001b[0mtrainer\u001b[0m\u001b[0;34m.\u001b[0m\u001b[0mfit\u001b[0m\u001b[0;34m(\u001b[0m\u001b[0mcontexts\u001b[0m\u001b[0;34m,\u001b[0m \u001b[0mtarget\u001b[0m\u001b[0;34m,\u001b[0m \u001b[0mmax_epoch\u001b[0m\u001b[0;34m,\u001b[0m \u001b[0mbatch_size\u001b[0m\u001b[0;34m)\u001b[0m\u001b[0;34m\u001b[0m\u001b[0;34m\u001b[0m\u001b[0m\n\u001b[0m\u001b[1;32m     22\u001b[0m \u001b[0mtrainer\u001b[0m\u001b[0;34m.\u001b[0m\u001b[0mplot\u001b[0m\u001b[0;34m(\u001b[0m\u001b[0;34m)\u001b[0m\u001b[0;34m\u001b[0m\u001b[0;34m\u001b[0m\u001b[0m\n\u001b[1;32m     23\u001b[0m \u001b[0;34m\u001b[0m\u001b[0m\n",
      "\u001b[0;32m~/PycharmProjects/scratch/common/trainer.py\u001b[0m in \u001b[0;36mfit\u001b[0;34m(self, x, t, max_epoch, batch_size, max_grad, eval_interval)\u001b[0m\n\u001b[1;32m     38\u001b[0m                 \u001b[0;31m# 기울기 구해 매개변수 갱신\u001b[0m\u001b[0;34m\u001b[0m\u001b[0;34m\u001b[0m\u001b[0;34m\u001b[0m\u001b[0m\n\u001b[1;32m     39\u001b[0m                 \u001b[0mloss\u001b[0m \u001b[0;34m=\u001b[0m \u001b[0mmodel\u001b[0m\u001b[0;34m.\u001b[0m\u001b[0mforward\u001b[0m\u001b[0;34m(\u001b[0m\u001b[0mbatch_x\u001b[0m\u001b[0;34m,\u001b[0m \u001b[0mbatch_t\u001b[0m\u001b[0;34m)\u001b[0m\u001b[0;34m\u001b[0m\u001b[0;34m\u001b[0m\u001b[0m\n\u001b[0;32m---> 40\u001b[0;31m                 \u001b[0mmodel\u001b[0m\u001b[0;34m.\u001b[0m\u001b[0mbackward\u001b[0m\u001b[0;34m(\u001b[0m\u001b[0;34m)\u001b[0m\u001b[0;34m\u001b[0m\u001b[0;34m\u001b[0m\u001b[0m\n\u001b[0m\u001b[1;32m     41\u001b[0m                 \u001b[0mparams\u001b[0m\u001b[0;34m,\u001b[0m \u001b[0mgrads\u001b[0m \u001b[0;34m=\u001b[0m \u001b[0mremove_duplicate\u001b[0m\u001b[0;34m(\u001b[0m\u001b[0mmodel\u001b[0m\u001b[0;34m.\u001b[0m\u001b[0mparams\u001b[0m\u001b[0;34m,\u001b[0m \u001b[0mmodel\u001b[0m\u001b[0;34m.\u001b[0m\u001b[0mgrads\u001b[0m\u001b[0;34m)\u001b[0m  \u001b[0;31m# 공유된 가중치를 하나로 모음\u001b[0m\u001b[0;34m\u001b[0m\u001b[0;34m\u001b[0m\u001b[0m\n\u001b[1;32m     42\u001b[0m                 \u001b[0;32mif\u001b[0m \u001b[0mmax_grad\u001b[0m \u001b[0;32mis\u001b[0m \u001b[0;32mnot\u001b[0m \u001b[0;32mNone\u001b[0m\u001b[0;34m:\u001b[0m\u001b[0;34m\u001b[0m\u001b[0;34m\u001b[0m\u001b[0m\n",
      "\u001b[0;32m~/PycharmProjects/scratch/cbow.py\u001b[0m in \u001b[0;36mbackward\u001b[0;34m(self, dout)\u001b[0m\n\u001b[1;32m     44\u001b[0m         \u001b[0mdout\u001b[0m \u001b[0;34m*=\u001b[0m \u001b[0;36m1\u001b[0m \u001b[0;34m/\u001b[0m \u001b[0mlen\u001b[0m\u001b[0;34m(\u001b[0m\u001b[0mself\u001b[0m\u001b[0;34m.\u001b[0m\u001b[0min_layers\u001b[0m\u001b[0;34m)\u001b[0m\u001b[0;34m\u001b[0m\u001b[0;34m\u001b[0m\u001b[0m\n\u001b[1;32m     45\u001b[0m         \u001b[0;32mfor\u001b[0m \u001b[0mlayer\u001b[0m \u001b[0;32min\u001b[0m \u001b[0mself\u001b[0m\u001b[0;34m.\u001b[0m\u001b[0min_layers\u001b[0m\u001b[0;34m:\u001b[0m\u001b[0;34m\u001b[0m\u001b[0;34m\u001b[0m\u001b[0m\n\u001b[0;32m---> 46\u001b[0;31m             \u001b[0mlayer\u001b[0m\u001b[0;34m.\u001b[0m\u001b[0mbackward\u001b[0m\u001b[0;34m(\u001b[0m\u001b[0mdout\u001b[0m\u001b[0;34m)\u001b[0m\u001b[0;34m\u001b[0m\u001b[0;34m\u001b[0m\u001b[0m\n\u001b[0m\u001b[1;32m     47\u001b[0m         \u001b[0;32mreturn\u001b[0m \u001b[0;32mNone\u001b[0m\u001b[0;34m\u001b[0m\u001b[0;34m\u001b[0m\u001b[0m\n",
      "\u001b[0;32m~/PycharmProjects/scratch/common/layers.py\u001b[0m in \u001b[0;36mbackward\u001b[0;34m(self, dout)\u001b[0m\n\u001b[1;32m    163\u001b[0m     \u001b[0;32mdef\u001b[0m \u001b[0mbackward\u001b[0m\u001b[0;34m(\u001b[0m\u001b[0mself\u001b[0m\u001b[0;34m,\u001b[0m \u001b[0mdout\u001b[0m\u001b[0;34m)\u001b[0m\u001b[0;34m:\u001b[0m\u001b[0;34m\u001b[0m\u001b[0;34m\u001b[0m\u001b[0m\n\u001b[1;32m    164\u001b[0m         \u001b[0mdW\u001b[0m\u001b[0;34m,\u001b[0m \u001b[0;34m=\u001b[0m \u001b[0mself\u001b[0m\u001b[0;34m.\u001b[0m\u001b[0mgrads\u001b[0m\u001b[0;34m\u001b[0m\u001b[0;34m\u001b[0m\u001b[0m\n\u001b[0;32m--> 165\u001b[0;31m         \u001b[0mdW\u001b[0m\u001b[0;34m[\u001b[0m\u001b[0;34m...\u001b[0m\u001b[0;34m]\u001b[0m \u001b[0;34m=\u001b[0m \u001b[0;36m0\u001b[0m\u001b[0;34m\u001b[0m\u001b[0;34m\u001b[0m\u001b[0m\n\u001b[0m\u001b[1;32m    166\u001b[0m         \u001b[0mnp\u001b[0m\u001b[0;34m.\u001b[0m\u001b[0madd\u001b[0m\u001b[0;34m.\u001b[0m\u001b[0mat\u001b[0m\u001b[0;34m(\u001b[0m\u001b[0mdW\u001b[0m\u001b[0;34m,\u001b[0m \u001b[0mself\u001b[0m\u001b[0;34m.\u001b[0m\u001b[0midx\u001b[0m\u001b[0;34m,\u001b[0m \u001b[0mdout\u001b[0m\u001b[0;34m)\u001b[0m\u001b[0;34m\u001b[0m\u001b[0;34m\u001b[0m\u001b[0m\n\u001b[1;32m    167\u001b[0m         \u001b[0;32mreturn\u001b[0m \u001b[0;32mNone\u001b[0m\u001b[0;34m\u001b[0m\u001b[0;34m\u001b[0m\u001b[0m\n",
      "\u001b[0;31mKeyboardInterrupt\u001b[0m: "
     ]
    }
   ],
   "source": [
    "# 4.3.2 CBOW 모델 학습 코드\n",
    "\n",
    "# 하이퍼파라미터 설정\n",
    "window_size = 5\n",
    "hidden_size = 100\n",
    "batch_size = 100\n",
    "max_epoch = 10\n",
    "\n",
    "# 데이터 읽기\n",
    "corpus, word_to_id, id_to_word = ptb.load_data('train')\n",
    "vocab_size = len(word_to_id)\n",
    "\n",
    "contexts, target = create_contexts_target(corpus, window_size)\n",
    "if config.GPU:\n",
    "    contexts, target = to_gpu(contexts), to_gpu(target)\n",
    "\n",
    "# 모델 등 생성\n",
    "model = CBOW(vocab_size, hidden_size, window_size, corpus)\n",
    "optimizer = Adam()\n",
    "trainer = Trainer(model, optimizer)\n",
    "\n",
    "# 학습 시작\n",
    "trainer.fit(contexts, target, max_epoch, batch_size)\n",
    "trainer.plot()\n",
    "\n",
    "# 나중에 사용할 수 있도록 필요한 데이터 저장\n",
    "word_vecs = model.word_vecs\n",
    "if config.GPU:\n",
    "    word_vecs = to_cpu(word_vecs)\n",
    "params = {}\n",
    "params['word_vecs'] = word_vecs.astype(np.float16)\n",
    "params['word_to_id'] = word_to_id\n",
    "params['id_to_word'] = id_to_word\n",
    "pkl_file = 'cbow_params.pkl'\n",
    "with open(pkl_file, 'wb') as f:\n",
    "    pickle.dump(params, f, -1)"
   ]
  },
  {
   "cell_type": "code",
   "execution_count": 4,
   "metadata": {},
   "outputs": [
    {
     "name": "stdout",
     "output_type": "stream",
     "text": [
      "\n",
      "[query] you\n",
      " we: 0.6103515625\n",
      " someone: 0.59130859375\n",
      " i: 0.55419921875\n",
      " something: 0.48974609375\n",
      " anyone: 0.47314453125\n",
      "\n",
      "[query] year\n",
      " month: 0.71875\n",
      " week: 0.65234375\n",
      " spring: 0.62744140625\n",
      " summer: 0.6259765625\n",
      " decade: 0.603515625\n",
      "\n",
      "[query] car\n",
      " luxury: 0.497314453125\n",
      " arabia: 0.47802734375\n",
      " auto: 0.47119140625\n",
      " disk-drive: 0.450927734375\n",
      " travel: 0.4091796875\n",
      "\n",
      "[query] toyota\n",
      " ford: 0.55078125\n",
      " instrumentation: 0.509765625\n",
      " mazda: 0.49365234375\n",
      " bethlehem: 0.47509765625\n",
      " nissan: 0.474853515625\n",
      "--------------------------------------------------\n",
      "\n",
      "[analogy] king:man = queen:?\n",
      " woman: 5.16015625\n",
      " veto: 4.9296875\n",
      " ounce: 4.69140625\n",
      " earthquake: 4.6328125\n",
      " successor: 4.609375\n",
      "\n",
      "[analogy] take:took = go:?\n",
      " went: 4.55078125\n",
      " points: 4.25\n",
      " began: 4.09375\n",
      " comes: 3.98046875\n",
      " oct.: 3.90625\n",
      "\n",
      "[analogy] car:cars = child:?\n",
      " children: 5.21875\n",
      " average: 4.7265625\n",
      " yield: 4.20703125\n",
      " cattle: 4.1875\n",
      " priced: 4.1796875\n",
      "\n",
      "[analogy] good:better = bad:?\n",
      " more: 6.6484375\n",
      " less: 6.0625\n",
      " rather: 5.21875\n",
      " slower: 4.734375\n",
      " greater: 4.671875\n"
     ]
    }
   ],
   "source": [
    "# 4.3.3 CBOW 모델 평가\n",
    "\n",
    "pkl_file = 'cbow_params.pkl'\n",
    "\n",
    "with open(pkl_file, 'rb') as f:\n",
    "    params = pickle.load(f)\n",
    "    word_vecs = params['word_vecs']\n",
    "    word_to_id = params['word_to_id']\n",
    "    id_to_word = params['id_to_word']\n",
    "\n",
    "# 가장 비슷한(most similar) 단어 뽑기\n",
    "querys = ['you', 'year', 'car', 'toyota']\n",
    "for query in querys:\n",
    "    most_similar(query, word_to_id, id_to_word, word_vecs, top=5)\n",
    "\n",
    "# 유추(analogy) 작업\n",
    "print('-'*50)\n",
    "analogy('king', 'man', 'queen',  word_to_id, id_to_word, word_vecs)\n",
    "analogy('take', 'took', 'go',  word_to_id, id_to_word, word_vecs)\n",
    "analogy('car', 'cars', 'child',  word_to_id, id_to_word, word_vecs)\n",
    "analogy('good', 'better', 'bad',  word_to_id, id_to_word, word_vecs)"
   ]
  },
  {
   "cell_type": "code",
   "execution_count": null,
   "metadata": {},
   "outputs": [],
   "source": []
  }
 ],
 "metadata": {
  "kernelspec": {
   "display_name": "Python 3",
   "language": "python",
   "name": "python3"
  },
  "language_info": {
   "codemirror_mode": {
    "name": "ipython",
    "version": 3
   },
   "file_extension": ".py",
   "mimetype": "text/x-python",
   "name": "python",
   "nbconvert_exporter": "python",
   "pygments_lexer": "ipython3",
   "version": "3.7.4"
  }
 },
 "nbformat": 4,
 "nbformat_minor": 2
}
